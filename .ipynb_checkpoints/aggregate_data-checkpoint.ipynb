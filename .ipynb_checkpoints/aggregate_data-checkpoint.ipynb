{
 "cells": [
  {
   "cell_type": "code",
   "execution_count": 2,
   "metadata": {},
   "outputs": [],
   "source": [
    "import pandas as pd\n",
    "import time"
   ]
  },
  {
   "cell_type": "markdown",
   "metadata": {},
   "source": [
    "<h1>Status Data</h1>"
   ]
  },
  {
   "cell_type": "code",
   "execution_count": 27,
   "metadata": {},
   "outputs": [],
   "source": [
    "# Aggregates status data hour by hour\n",
    "file = \"C:/Users/Miguel Galvão/Desktop/data/status.csv\"\n",
    "new_file = \"C:/Users/Miguel Galvão/Desktop/data/status_updated.csv\"\n",
    "relevant_ids = [39, 41, 42, 45, 46, 47, 48, 49, 50, 51, 54, 55, 56, 57, 58, 59, 60, 61, 62, 63, 64, 65, 66, 67, 68, 69, 70, 71, 72, 73, 74, 75, 76, 77, 82]\n",
    "\n",
    "new_df = pd.DataFrame(columns=['station_id', 'bikes_available', 'docks_available', 'time'])\n"
   ]
  },
  {
   "cell_type": "code",
   "execution_count": 3,
   "metadata": {},
   "outputs": [
    {
     "name": "stdout",
     "output_type": "stream",
     "text": [
      "Starting!\n",
      "Reading data...\n",
      "Done! 53.48280334472656 s\n"
     ]
    }
   ],
   "source": [
    "start = time.time()\n",
    "print(\"Starting!\")\n",
    "print(\"Reading data...\")\n",
    "\n",
    "df = pd.read_csv(file)\n",
    "\n",
    "end = time.time()\n",
    "print(f\"Done! {end - start} s\")"
   ]
  },
  {
   "cell_type": "code",
   "execution_count": 28,
   "metadata": {},
   "outputs": [
    {
     "name": "stdout",
     "output_type": "stream",
     "text": [
      "Processing data...\n",
      "1 in 35 done...\n",
      "2 in 35 done...\n",
      "3 in 35 done...\n",
      "4 in 35 done...\n",
      "5 in 35 done...\n",
      "6 in 35 done...\n",
      "7 in 35 done...\n",
      "8 in 35 done...\n",
      "9 in 35 done...\n",
      "10 in 35 done...\n",
      "11 in 35 done...\n",
      "12 in 35 done...\n",
      "13 in 35 done...\n",
      "14 in 35 done...\n",
      "15 in 35 done...\n",
      "16 in 35 done...\n",
      "17 in 35 done...\n",
      "18 in 35 done...\n",
      "19 in 35 done...\n",
      "20 in 35 done...\n",
      "21 in 35 done...\n",
      "22 in 35 done...\n",
      "23 in 35 done...\n",
      "24 in 35 done...\n",
      "25 in 35 done...\n",
      "26 in 35 done...\n",
      "27 in 35 done...\n",
      "28 in 35 done...\n",
      "29 in 35 done...\n",
      "30 in 35 done...\n",
      "31 in 35 done...\n",
      "32 in 35 done...\n",
      "33 in 35 done...\n",
      "34 in 35 done...\n",
      "35 in 35 done...\n",
      "All data processed! 73.34359645843506 s\n"
     ]
    }
   ],
   "source": [
    "start = time.time()\n",
    "print(\"Processing data...\")\n",
    "\n",
    "for i, id in enumerate(relevant_ids):\n",
    "    station_status = df[df['station_id'] == id] # gather data for specific station\n",
    "    times = pd.to_datetime(station_status['time'])  # convert time column to datetime object\n",
    "    \n",
    "    # group values by year, day and hour\n",
    "    station_status_by_hour = station_status.groupby([times.dt.year, times.dt.dayofyear, times.dt.hour]).mean()\n",
    "    \n",
    "    #rename columns to index correctly\n",
    "    station_status_by_hour.index = station_status_by_hour.index.set_names(['year', 'day', 'hour'])\n",
    "    \n",
    "    station_status_by_hour = station_status_by_hour.reset_index()\n",
    "    \n",
    "    # convert back to datetime\n",
    "\n",
    "    time_series = station_status_by_hour['year'].astype(str) + \"-\" + station_status_by_hour['day'].astype(str) + \"-\" + station_status_by_hour['hour'].astype(str)\n",
    "    \n",
    "    station_status_by_hour['time'] = pd.to_datetime(time_series, format='%Y-%j-%H')\n",
    "    \n",
    "#     print(station_status_by_hour)\n",
    "    \n",
    "    # add station info to the table\n",
    "    new_df = pd.concat([new_df, station_status_by_hour], ignore_index=True)\n",
    "#     new_df = new_df.append(station_status_by_hour)\n",
    "    \n",
    "\n",
    "    print(f\"{i + 1} in {len(relevant_ids)} done...\")\n",
    "\n",
    "end = time.time()\n",
    "print(f\"All data processed! {end - start} s\")"
   ]
  },
  {
   "cell_type": "code",
   "execution_count": 29,
   "metadata": {},
   "outputs": [
    {
     "name": "stdout",
     "output_type": "stream",
     "text": [
      "Writing to new file...\n",
      "All done! 83.43617486953735 s\n"
     ]
    }
   ],
   "source": [
    "print(\"Writing to new file...\")\n",
    "\n",
    "new_df.to_csv(new_file, index=False, columns=['station_id', 'bikes_available', 'docks_available', 'time'])\n",
    "end = time.time()\n",
    "print(f\"All done! {end - start} s\")"
   ]
  },
  {
   "cell_type": "markdown",
   "metadata": {},
   "source": [
    "<h1>Stations Data</h1>"
   ]
  },
  {
   "cell_type": "code",
   "execution_count": 10,
   "metadata": {},
   "outputs": [
    {
     "name": "stdout",
     "output_type": "stream",
     "text": [
      "All done!\n"
     ]
    }
   ],
   "source": [
    "# Only considers relevant stations\n",
    "file = \"C:/Users/Miguel Galvão/Desktop/data/station.csv\"\n",
    "new_file = \"C:/Users/Miguel Galvão/Desktop/data/updated/station.csv\"\n",
    "relevant_ids = [39, 41, 42, 45, 46, 47, 48, 49, 50, 51, 54, 55, 56, 57, 58, 59, 60, 61, 62, 63, 64, 65, 66, 67, 68, 69, 70, 71, 72, 73, 74, 75, 76, 77, 82]\n",
    "\n",
    "df = pd.read_csv(file)\n",
    "\n",
    "new_df = df[df['id'].isin(relevant_ids)].copy()\n",
    "\n",
    "new_df.to_csv(new_file, index=False)\n",
    "print(\"All done!\")\n"
   ]
  }
 ],
 "metadata": {
  "kernelspec": {
   "display_name": "Python 3 (ipykernel)",
   "language": "python",
   "name": "python3"
  },
  "language_info": {
   "codemirror_mode": {
    "name": "ipython",
    "version": 3
   },
   "file_extension": ".py",
   "mimetype": "text/x-python",
   "name": "python",
   "nbconvert_exporter": "python",
   "pygments_lexer": "ipython3",
   "version": "3.10.4"
  }
 },
 "nbformat": 4,
 "nbformat_minor": 2
}

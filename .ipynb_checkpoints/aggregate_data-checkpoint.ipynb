{
 "cells": [
  {
   "cell_type": "code",
   "execution_count": 1,
   "metadata": {},
   "outputs": [],
   "source": [
    "import pandas as pd\n",
    "import time"
   ]
  },
  {
   "cell_type": "code",
   "execution_count": 2,
   "metadata": {},
   "outputs": [],
   "source": [
    "# Aggregates status data hour by hour\n",
    "file = \"C:/Users/Miguel Galvão/Desktop/data/status.csv\"\n",
    "relevant_ids = [39, 41, 42, 45, 46, 47, 48, 49, 50, 51, 54, 55, 56, 57, 58, 59, 60, 61, 62, 63, 64, 65, 66, 67, 68, 69, 70, 71, 72, 73, 74, 75, 76, 77, 82]\n",
    "\n",
    "new_df = pd.DataFrame(columns=['station_id', 'bikes_available', 'docks_available', 'time'])\n"
   ]
  },
  {
   "cell_type": "code",
   "execution_count": null,
   "metadata": {},
   "outputs": [
    {
     "name": "stdout",
     "output_type": "stream",
     "text": [
      "Starting!\n",
      "Reading data...\n"
     ]
    }
   ],
   "source": [
    "start = time.time()\n",
    "print(\"Starting!\")\n",
    "print(\"Reading data...\")\n",
    "\n",
    "df = pd.read_csv(file)\n",
    "\n",
    "end = time.time()\n",
    "print(f\"Done! {end - start} s\")"
   ]
  },
  {
   "cell_type": "code",
   "execution_count": null,
   "metadata": {},
   "outputs": [],
   "source": [
    "print(\"Processing data...\")\n",
    "\n",
    "for i, id in enumerate(relevant_ids):\n",
    "    station_status = df[df['station_id'] == id] # gather data for specific station\n",
    "    times = pd.to_datetime(station_status['time'])  # convert time column to datetime object\n",
    "    # group values by day and hour\n",
    "    station_status_by_hour = station_status.groupby([times.dt.dayofyear, times.dt.hour]).mean()\n",
    "\n",
    "    print(station_status_by_hour)\n",
    "\n",
    "    #df3 = df1.append(df2, ignore_index=True)\n",
    "    \n",
    "\n",
    "    print(f\"{i + 1} in {len(relevant_ids)} done...\")\n",
    "    break\n",
    "\n",
    "end = time.time()\n",
    "print(f\"All data processed! {end - start} s\")"
   ]
  },
  {
   "cell_type": "code",
   "execution_count": null,
   "metadata": {},
   "outputs": [],
   "source": [
    "print(\"Writing to new file...\")"
   ]
  }
 ],
 "metadata": {
  "kernelspec": {
   "display_name": "Python 3 (ipykernel)",
   "language": "python",
   "name": "python3"
  },
  "language_info": {
   "codemirror_mode": {
    "name": "ipython",
    "version": 3
   },
   "file_extension": ".py",
   "mimetype": "text/x-python",
   "name": "python",
   "nbconvert_exporter": "python",
   "pygments_lexer": "ipython3",
   "version": "3.10.4"
  }
 },
 "nbformat": 4,
 "nbformat_minor": 2
}
